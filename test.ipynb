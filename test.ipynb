{
 "cells": [
  {
   "cell_type": "code",
   "execution_count": 1,
   "metadata": {},
   "outputs": [],
   "source": [
    "a = {\n",
    "    \"equipment_key\": \"6HO5bjVrPg\",\n",
    "    \"wifi_name\": \"Compostlab\",\n",
    "    \"wifi_password\": \"znxk8888\",\n",
    "    \"mqtt_user\": \"equipment\",\n",
    "    \"mqtt_password\": \"ZNXK8888\",\n",
    "    \"mqtt_server\": \"118.25.108.254\",\n",
    "    \"keys\": {\n",
    "        \"ds\": [\n",
    "            \"vMHkNQknpkvRinH\",\n",
    "            \"lXRn4UN5pJFpelL\",\n",
    "            \"GigLfnzcjSALpf7\",\n",
    "            \"LIxEe7VMMKSRXPU\",\n",
    "            \"4YimLILmk82e21t\",\n",
    "            \"nb722j5yChTgbMF\"\n",
    "        ],\n",
    "        \"sgp\": \"oQDNcDdz7q1JASi\"\n",
    "    },\n",
    "    \"sgp_key\": \"\",\n",
    "    \"value_skip\": [\n",
    "        25.0,\n",
    "        85.0\n",
    "    ],\n",
    "    \"post_interval\": 60,\n",
    "    \"ntp_host\": [\n",
    "        \"ntp.aliyun.com\",\n",
    "        \"cn.ntp.org.cn\",\n",
    "        \"ntp.tuna.tsinghua.edu.cn\"\n",
    "    ],\n",
    "    \"ntp_interval\": 1000,\n",
    "    \"temp_maxdif\": 0.25\n",
    "}"
   ]
  },
  {
   "cell_type": "code",
   "execution_count": 12,
   "metadata": {},
   "outputs": [
    {
     "data": {
      "text/plain": [
       "['vMHkNQknpkvRinH',\n",
       " 'lXRn4UN5pJFpelL',\n",
       " 'GigLfnzcjSALpf7',\n",
       " 'LIxEe7VMMKSRXPU',\n",
       " '4YimLILmk82e21t',\n",
       " 'nb722j5yChTgbMF']"
      ]
     },
     "execution_count": 12,
     "metadata": {},
     "output_type": "execute_result"
    }
   ],
   "source": [
    "a['keys']['ds']"
   ]
  }
 ],
 "metadata": {
  "kernelspec": {
   "display_name": "Python 3.10.4 64-bit",
   "language": "python",
   "name": "python3"
  },
  "language_info": {
   "codemirror_mode": {
    "name": "ipython",
    "version": 3
   },
   "file_extension": ".py",
   "mimetype": "text/x-python",
   "name": "python",
   "nbconvert_exporter": "python",
   "pygments_lexer": "ipython3",
   "version": "3.10.4"
  },
  "orig_nbformat": 4,
  "vscode": {
   "interpreter": {
    "hash": "916dbcbb3f70747c44a77c7bcd40155683ae19c65e1c03b4aa3499c5328201f1"
   }
  }
 },
 "nbformat": 4,
 "nbformat_minor": 2
}
